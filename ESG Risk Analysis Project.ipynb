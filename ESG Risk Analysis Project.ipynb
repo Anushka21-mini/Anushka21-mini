{
 "cells": [
  {
   "cell_type": "markdown",
   "id": "1fc8456a",
   "metadata": {},
   "source": [
    "# ESG Risk Analysis Project"
   ]
  },
  {
   "cell_type": "markdown",
   "id": "68b8fb4d",
   "metadata": {},
   "source": [
    " Import Libraries"
   ]
  },
  {
   "cell_type": "code",
   "execution_count": null,
   "id": "6ee89a71",
   "metadata": {},
   "outputs": [],
   "source": [
    "import pandas as pd \n",
    "import matplotlib.pyplot as plt \n"
   ]
  }
 ],
 "metadata": {
  "language_info": {
   "name": "python"
  }
 },
 "nbformat": 4,
 "nbformat_minor": 5
}
